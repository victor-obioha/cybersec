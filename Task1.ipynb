{
 "cells": [
  {
   "cell_type": "code",
   "execution_count": 3,
   "id": "ce351a9a-ed12-43f5-aedc-be4ea473f775",
   "metadata": {},
   "outputs": [
    {
     "name": "stdin",
     "output_type": "stream",
     "text": [
      "Enter your message:  victor\n",
      "Enter the shift value:  3\n",
      "Choose mode (encrypt/decrypt):  decrypt\n"
     ]
    },
    {
     "name": "stdout",
     "output_type": "stream",
     "text": [
      "Result: sfzqlo\n"
     ]
    }
   ],
   "source": [
    "def caesar_cipher(text, shift, mode='encrypt'):\n",
    "    # Adjust shift for decryption by making it negative\n",
    "    if mode == 'decrypt':\n",
    "        shift = -shift\n",
    "\n",
    "    result = \"\"\n",
    "    \n",
    "    # Loop through each character in the input text\n",
    "    for char in text:\n",
    "        if char.isalpha():  # Check if it's a letter\n",
    "            # Determine if it's uppercase or lowercase\n",
    "            offset = 65 if char.isupper() else 97\n",
    "            # Apply the Caesar shift\n",
    "            shifted_char = chr((ord(char) - offset + shift) % 26 + offset)\n",
    "            result += shifted_char\n",
    "        else:\n",
    "            # Non-alphabetic characters remain the same\n",
    "            result += char\n",
    "\n",
    "    return result\n",
    "\n",
    "\n",
    "# Get user input\n",
    "message = input(\"Enter your message: \")\n",
    "shift = int(input(\"Enter the shift value: \"))\n",
    "mode = input(\"Choose mode (encrypt/decrypt): \").lower()\n",
    "\n",
    "# Validate mode input\n",
    "if mode not in ['encrypt', 'decrypt']:\n",
    "    print(\"Invalid mode. Please choose either 'encrypt' or 'decrypt'.\")\n",
    "else:\n",
    "    # Perform encryption or decryption\n",
    "    result = caesar_cipher(message, shift, mode)\n",
    "    print(f\"Result: {result}\")\n"
   ]
  },
  {
   "cell_type": "code",
   "execution_count": null,
   "id": "532ecddc-1faf-43c4-83a6-2ded7ac95a1b",
   "metadata": {},
   "outputs": [],
   "source": []
  }
 ],
 "metadata": {
  "kernelspec": {
   "display_name": "Python 3 (ipykernel)",
   "language": "python",
   "name": "python3"
  },
  "language_info": {
   "codemirror_mode": {
    "name": "ipython",
    "version": 3
   },
   "file_extension": ".py",
   "mimetype": "text/x-python",
   "name": "python",
   "nbconvert_exporter": "python",
   "pygments_lexer": "ipython3",
   "version": "3.12.3"
  }
 },
 "nbformat": 4,
 "nbformat_minor": 5
}
